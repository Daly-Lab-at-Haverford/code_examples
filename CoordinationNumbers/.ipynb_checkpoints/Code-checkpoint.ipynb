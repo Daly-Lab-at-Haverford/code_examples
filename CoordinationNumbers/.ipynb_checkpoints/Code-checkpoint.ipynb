{
 "cells": [
  {
   "cell_type": "markdown",
   "id": "40ee1dc6",
   "metadata": {},
   "source": [
    "## Coding Example for Coordination Numbers\n",
    "- It may be easier to understand this example if you run it cell-by-cell and not the whole way through, but this is just a recommendation!"
   ]
  },
  {
   "cell_type": "markdown",
   "id": "f9dba8ae",
   "metadata": {},
   "source": [
    "In the cell below are all the programs you are going to need for the calculation. Go ahead and `import` them."
   ]
  },
  {
   "cell_type": "code",
   "execution_count": 40,
   "id": "27bd9aaa",
   "metadata": {},
   "outputs": [],
   "source": [
    "import nglview as ngl\n",
    "import numpy as np\n",
    "import mdtraj as md\n",
    "import matplotlib.pyplot as plt"
   ]
  },
  {
   "cell_type": "markdown",
   "id": "3b79a892",
   "metadata": {},
   "source": [
    "Now we are going to need to generate RDF calculations of the atoms that we are doing the coordination number calculation with. If you have not done a RDF before, I will show it down below. If you have, go ahead and copy your code into the same notebook you will be using to calculate coordination numbers. Skip to [here](#01)\n",
    "\n",
    "A RDF (radial distribution function) is going to calculate the probability of seeing one atom around another atom which you can use to match with your coordination number results \n",
    "* high probability at a certain distance = high number of specific atom at that certain distance"
   ]
  },
  {
   "cell_type": "markdown",
   "id": "84c72ad1",
   "metadata": {},
   "source": [
    "## RDF Calculation\n",
    "What you first want to do is read in your trajectories and give it a varaible. I used `traj`, but you can name it any way you want. Look below!"
   ]
  },
  {
   "cell_type": "code",
   "execution_count": 16,
   "id": "2b7ea68d",
   "metadata": {},
   "outputs": [],
   "source": [
    "traj = md.load('/homes/kndiaye/code_materials/coordination_numbers/output.h5')"
   ]
  },
  {
   "cell_type": "markdown",
   "id": "3e22f87a",
   "metadata": {},
   "source": [
    "After loading the trajectories, we now want to make sure we know the element symbol of the atoms we are working with. Sometimes the PDB file will represent the stom with different symbols that aren't customed to the Periodic Table. Just to make sure that this isn't the case, we can examine what the PDB file says by looking through the trajectory. \n",
    "\n",
    "In my system, I wanted to check that Oxygen had the elememt symbol 'O'. To do so, we want to take a closer look at the molecule and it will tell us what atoms are in the molecule. There are tons of molecules in my system though, so looking through the PDB will help us condense what molecule we want the code to take a look at.\n",
    "\n",
    "Navigate to the PDB file for your trajectory. So how you want to know the index number is by looking for the `TER` in the PDB file. That number indicates where the values and atoms of a molecule end and a new one begins. \n",
    "\n",
    "Take a look at my pdb file in the materials folder titled 'md_redo.pdb' for a clearer idea! The first `TER` has a number of 226 indicating I had 226 molecules of BMIM and the second `TER` has a number of 226 indicating that I had 226 molecules of BF4. This makes sense because that is what I had in my system using Packmol. Now the molecule I really wanna look at is H2O. So if I add 226 + 226, it should tell me the starting index of the last molecule in my system: H2O.\n",
    "\n",
    "In the below cell is the code to get the that index and the atoms in it. And it does!\n",
    "- **Note**\n",
    "The 'VS' is just a drude particle that I had in my system"
   ]
  },
  {
   "cell_type": "code",
   "execution_count": 17,
   "id": "e8a737ad",
   "metadata": {},
   "outputs": [
    {
     "data": {
      "text/plain": [
       "['O', 'H', 'H', 'VS', 'VS']"
      ]
     },
     "execution_count": 17,
     "metadata": {},
     "output_type": "execute_result"
    }
   ],
   "source": [
    "#examining water (should get H,H,O)\n",
    "[i.element.symbol for i in\n",
    "traj.topology.atoms if i.residue.index==452]"
   ]
  },
  {
   "cell_type": "markdown",
   "id": "ae33d39f",
   "metadata": {},
   "source": [
    "Now we can move onto getting the indices for the atoms. This is especially helpful for when you have the same atom type in different molecules and to get rid of drude particles if you have any. \n",
    "\n",
    "In my system, I just want the oxygen indices. Look below under 'getting indices'! I have created a list of all the oxygen atoms in the system and in my case, oxygen is the only atom of its kind in the entire system so I do not need to worry about anymore specification.\n",
    "\n",
    "**Although** if I wanted to take a look at BMIM, which has hydrogens, and H2O, which also has hydrogens, I have to add more specification. Look under the comment that says 'more specifications'. The only extra thing you have to add is what molecule you want the hydrogen atoms to come from. In this case, I wrote it to look at the hydrogen atoms in water."
   ]
  },
  {
   "cell_type": "code",
   "execution_count": 18,
   "id": "803a8412",
   "metadata": {},
   "outputs": [],
   "source": [
    "#getting indices\n",
    "hoh_os = [i.index for i in traj.topology.atoms if i.element.symbol == 'O']\n",
    "\n",
    "#more specification\n",
    "hoh_hs = [i.index for i in traj.topology.atoms if \n",
    "          ((i.element.symbol == 'H') and (i.residue.name == 'HOH'))]"
   ]
  },
  {
   "cell_type": "markdown",
   "id": "b0709fdf",
   "metadata": {},
   "source": [
    "We now have everything we need for the RDF. Luckily, md.traj has a RDF calculation built in so all we need to do is add in what two atoms we want it to look at.\n",
    "\n",
    "In my system, I wanted to get a RDF between only the oxygen atoms. Look below! For your pairs, you can put the same list of atoms twice (which is what I did). But if you wanted to evaluate a pair of two different atoms, write it as such.\n",
    "- **Note** You can name your RDF as you want, I just found it easier to use 'gr' and then put the two atom symbols of what the RDF is calculating"
   ]
  },
  {
   "cell_type": "code",
   "execution_count": 19,
   "id": "cb034319",
   "metadata": {},
   "outputs": [],
   "source": [
    "#calculating the rdf betweeen oxygen atoms\n",
    "grOO = md.compute_rdf(traj,\n",
    "                          traj.topology.select_pairs(hoh_os, hoh_os), n_bins=100, r_range=[0.0, 2.0])"
   ]
  },
  {
   "cell_type": "markdown",
   "id": "99bf57e3",
   "metadata": {},
   "source": [
    "Now that we have calculated the RDF, we can move onto the main part: coordination numbers"
   ]
  },
  {
   "cell_type": "markdown",
   "id": "bff9caaa",
   "metadata": {},
   "source": [
    "## Coordination Numbers *still working on editing it <a class=\"anchor\" id=\"01\"></a>"
   ]
  },
  {
   "cell_type": "markdown",
   "id": "478a9a49",
   "metadata": {},
   "source": [
    "Using the RDF(s) of the pair of atoms we want to calculate, we're going to check their bin width and define it. This is apart of the coordination number equation. \n",
    "\n",
    "I want to see the specific number of how many waters are around each other so I will use my RDF of oxygen-oxygen (grOO) only. Look below!"
   ]
  },
  {
   "cell_type": "code",
   "execution_count": 34,
   "id": "52c50eef",
   "metadata": {},
   "outputs": [
    {
     "data": {
      "text/plain": [
       "0.02"
      ]
     },
     "execution_count": 34,
     "metadata": {},
     "output_type": "execute_result"
    }
   ],
   "source": [
    "# Check bin width\n",
    "grOO[0][1]- grOO[0][0]\n"
   ]
  },
  {
   "cell_type": "code",
   "execution_count": 35,
   "id": "4580beec",
   "metadata": {},
   "outputs": [],
   "source": [
    "# Define bin width \n",
    "bin_width = grOO[0][1] - grOO[0][0]"
   ]
  },
  {
   "cell_type": "markdown",
   "id": "c8e59349",
   "metadata": {},
   "source": [
    "I mentioned in the README.txt file that you are going to want your output.dat file on hand and this is where we are going to need it. You need to calculate the edge length of the box and the number density using the values in there.\n",
    "\n",
    "To get the edge length of the box, you need the volume of the box. You can find this in your output.dat file. You can check mine as reference for what it should look like. The size of my box didn't change through the MD simulation so I used '72.59'.\n",
    "Then, I put it to the exponent of '1/3'. The volume of a cube is length cubed so to get the edge length which you want to take the volume to the '1/3' power.\n",
    "Finally, multiple it '10' (this is just to get out of the nm^3 units into angstrons). The code is down below!"
   ]
  },
  {
   "cell_type": "code",
   "execution_count": 36,
   "id": "6f99bf0b",
   "metadata": {},
   "outputs": [
    {
     "data": {
      "text/plain": [
       "41.715001685519255"
      ]
     },
     "execution_count": 36,
     "metadata": {},
     "output_type": "execute_result"
    }
   ],
   "source": [
    "#length of box\n",
    "72.59**(1/3)*10"
   ]
  },
  {
   "cell_type": "markdown",
   "id": "de8e4cfc",
   "metadata": {},
   "source": [
    "To get the number density...\n",
    "**i cannot access my notebook today so this step will be added in as soon as i get access to it**"
   ]
  },
  {
   "cell_type": "markdown",
   "id": "73cea20e",
   "metadata": {},
   "source": [
    "Lastly, we are going to need the y values of the RDF so we can get this with code down below!"
   ]
  },
  {
   "cell_type": "code",
   "execution_count": 37,
   "id": "d8f80188",
   "metadata": {},
   "outputs": [
    {
     "data": {
      "text/plain": [
       "112.15811593523051"
      ]
     },
     "execution_count": 37,
     "metadata": {},
     "output_type": "execute_result"
    }
   ],
   "source": [
    "np.sum(grOO[1])"
   ]
  },
  {
   "cell_type": "markdown",
   "id": "0eec599d",
   "metadata": {},
   "source": [
    "Now we just need to put it all together. The equation should be:\n",
    "\n",
    "\n",
    "'4 * pi * number_density * np.sum(grXX[1] * grXX[O] **range_from_RDF * bin_width'.\n",
    "\n",
    "I've written the code down below!"
   ]
  },
  {
   "cell_type": "code",
   "execution_count": 38,
   "id": "95b27c45",
   "metadata": {},
   "outputs": [
    {
     "data": {
      "text/plain": [
       "13.84168366782096"
      ]
     },
     "execution_count": 38,
     "metadata": {},
     "output_type": "execute_result"
    }
   ],
   "source": [
    "4*np.pi*0.413*np.sum(grOO[1]*grOO[0]**2*bin_width)"
   ]
  },
  {
   "cell_type": "markdown",
   "id": "2b21c666",
   "metadata": {},
   "source": [
    "* *Here I will explain more about what this does when I get notebook access*"
   ]
  },
  {
   "cell_type": "markdown",
   "id": "61ba5838",
   "metadata": {},
   "source": [
    "Now we want to calculate coordination numbers for the *entire* system (with the atoms you decided on) with this code down below"
   ]
  },
  {
   "cell_type": "code",
   "execution_count": 39,
   "id": "95eb42e8",
   "metadata": {},
   "outputs": [
    {
     "data": {
      "text/plain": [
       "array([0.00000000e+00, 0.00000000e+00, 0.00000000e+00, 0.00000000e+00,\n",
       "       0.00000000e+00, 0.00000000e+00, 0.00000000e+00, 0.00000000e+00,\n",
       "       0.00000000e+00, 0.00000000e+00, 0.00000000e+00, 0.00000000e+00,\n",
       "       2.15593619e-03, 9.12310070e-02, 2.18207452e-01, 2.69277587e-01,\n",
       "       2.90056421e-01, 3.03801500e-01, 3.16554848e-01, 3.29542748e-01,\n",
       "       3.42978809e-01, 3.57241934e-01, 3.73028095e-01, 3.89792953e-01,\n",
       "       4.08294447e-01, 4.28077848e-01, 4.48729624e-01, 4.71042318e-01,\n",
       "       4.93982280e-01, 5.20264448e-01, 5.49895910e-01, 5.83510594e-01,\n",
       "       6.21666534e-01, 6.65487319e-01, 7.14476605e-01, 7.69323459e-01,\n",
       "       8.28684480e-01, 8.89589305e-01, 9.50707951e-01, 1.01264662e+00,\n",
       "       1.07646695e+00, 1.14204478e+00, 1.21057893e+00, 1.28280711e+00,\n",
       "       1.36025232e+00, 1.44254887e+00, 1.52642391e+00, 1.61398602e+00,\n",
       "       1.70677171e+00, 1.80485035e+00, 1.90660237e+00, 2.01283380e+00,\n",
       "       2.12340025e+00, 2.23925858e+00, 2.35846007e+00, 2.48501483e+00,\n",
       "       2.61664885e+00, 2.75347921e+00, 2.89443096e+00, 3.03920631e+00,\n",
       "       3.18933772e+00, 3.34294231e+00, 3.50172261e+00, 3.66374224e+00,\n",
       "       3.83237049e+00, 4.00562234e+00, 4.18580132e+00, 4.36920558e+00,\n",
       "       4.55990083e+00, 4.75651621e+00, 4.96264926e+00, 5.17396289e+00,\n",
       "       5.39182585e+00, 5.61895709e+00, 5.85084407e+00, 6.08836133e+00,\n",
       "       6.33763559e+00, 6.58875043e+00, 6.84825738e+00, 7.11471964e+00,\n",
       "       7.38737107e+00, 7.66764358e+00, 7.95480199e+00, 8.24551573e+00,\n",
       "       8.54151436e+00, 8.84674201e+00, 9.15680685e+00, 9.47318583e+00,\n",
       "       9.79722780e+00, 1.01318148e+01, 1.04701887e+01, 1.08151891e+01,\n",
       "       1.11670872e+01, 1.15268002e+01, 1.18958379e+01, 1.22722289e+01,\n",
       "       1.26547164e+01, 1.30426312e+01, 1.34367339e+01, 1.38416837e+01])"
      ]
     },
     "execution_count": 39,
     "metadata": {},
     "output_type": "execute_result"
    }
   ],
   "source": [
    "cn = np.zeros(100)\n",
    "\n",
    "for i, n in enumerate(grOO[0]):\n",
    "    cn[i] = 4*np.pi*0.413*np.sum(grOO[1]*grOO[0]**2*bin_width, where=(grOO[0] <= n))\n",
    "cn"
   ]
  },
  {
   "cell_type": "markdown",
   "id": "c6c9fbcf",
   "metadata": {},
   "source": [
    "You can graph out your coordination numbers if you would like, but that concludes the code for being able to do so! \n",
    "\n",
    "**Slack me with any comments on how to improve this example, thanks**!"
   ]
  },
  {
   "cell_type": "code",
   "execution_count": null,
   "id": "4ffbb69c",
   "metadata": {},
   "outputs": [],
   "source": []
  }
 ],
 "metadata": {
  "kernelspec": {
   "display_name": "Python 3 (ipykernel)",
   "language": "python",
   "name": "python3"
  },
  "language_info": {
   "codemirror_mode": {
    "name": "ipython",
    "version": 3
   },
   "file_extension": ".py",
   "mimetype": "text/x-python",
   "name": "python",
   "nbconvert_exporter": "python",
   "pygments_lexer": "ipython3",
   "version": "3.11.5"
  }
 },
 "nbformat": 4,
 "nbformat_minor": 5
}
