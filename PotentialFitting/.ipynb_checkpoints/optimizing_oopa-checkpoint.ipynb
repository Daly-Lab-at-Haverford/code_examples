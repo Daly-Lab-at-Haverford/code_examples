{
 "cells": [
  {
   "cell_type": "code",
   "execution_count": 1,
   "metadata": {
    "scrolled": true
   },
   "outputs": [],
   "source": [
    "import numpy as np\n",
    "import matplotlib.pyplot as plt\n",
    "import scipy.optimize as spo\n",
    "import psi4\n",
    "import v3d"
   ]
  },
  {
   "cell_type": "code",
   "execution_count": 2,
   "metadata": {},
   "outputs": [],
   "source": [
    "psi4.core.set_output_file('oofp.dat')\n",
    "theory = 'mp2/6-31G*'\n",
    "bohr2ang = 0.529177\n",
    "rad2deg = 180.0/np.pi"
   ]
  },
  {
   "cell_type": "code",
   "execution_count": 3,
   "metadata": {},
   "outputs": [],
   "source": [
    "#optimized coordinates of the molecules\n",
    "azi = \"\"\"\n",
    "0 1\n",
    "    C           -1.372186183321    -2.010860020902    -0.886820192828\n",
    "    C           -0.173158673000    -1.298344357907    -0.406115006426\n",
    "    N            0.786309071860    -1.384810968974     0.420697487368\n",
    "    C            0.662837700048    -0.111043752576    -0.491918176988\n",
    "    H            1.422532833369    -0.002132476819    -1.261568419806\n",
    "    C            0.271415655367     1.154529325936     0.168585840901\n",
    "    O           -0.638034693748     0.950769479245     1.162558403008\n",
    "    O            0.686902544636     2.258017066085    -0.144478115352\n",
    "    H           -1.457401352716    -2.978238526949    -0.387585199421\n",
    "    H           -1.313874303487    -2.157164437091    -1.968871402470\n",
    "    H           -2.260422649854    -1.409349289546    -0.673788389312\n",
    "    H           -0.815494634684     1.839688017493     1.533442847642\n",
    "\"\"\"\n"
   ]
  },
  {
   "cell_type": "code",
   "execution_count": 4,
   "metadata": {
    "scrolled": true
   },
   "outputs": [
    {
     "name": "stdout",
     "output_type": "stream",
     "text": [
      "(2, 1, 4, 3) 0.3336466719126409\n",
      "-359.534737982901\n"
     ]
    }
   ],
   "source": [
    "#what coordinates are we optimizing\n",
    "coords = [\n",
    "    (2,  1,  4,  3),\n",
    "]\n",
    "\n",
    "opt_coords = np.zeros(len(coords))\n",
    "#print the optimized values of these coordinates:\n",
    "#also, save these values for later\n",
    "azi_geo = psi4.geometry(azi)\n",
    "for item, quad in enumerate(coords):\n",
    "    opt_coords[item] = v3d.oofp((azi_geo.to_arrays()[0])[quad[0]-1],\n",
    "                                (azi_geo.to_arrays()[0])[quad[1]-1],\n",
    "                                (azi_geo.to_arrays()[0])[quad[2]-1],\n",
    "                                (azi_geo.to_arrays()[0])[quad[3]-1])*rad2deg\n",
    "    print(coords[item], opt_coords[item])\n",
    "\n",
    "opt_energy = -359.534737982901#opt energy from q-chem\n",
    "#psi4.energy(theory)\n",
    "print(opt_energy)\n"
   ]
  },
  {
   "cell_type": "code",
   "execution_count": 5,
   "metadata": {
    "collapsed": true
   },
   "outputs": [
    {
     "data": {
      "text/plain": [
       "'\\n#collecting real optimized coordinate values here. \\n#these wont always be the same as the values in r\\n#because of \"fixed\" rather than \"frozen\" coordinate scan\\np_real = np.zeros((len(coords), 9))\\n#collecting energies here\\nenergies = np.zeros((len(coords), 9))\\n    \\nfor item, quad in enumerate(coords):\\n    \\n    #define geometry\\n    azi_geo = psi4.geometry(azi)\\n    #get optimized coordinate values\\n    p0 = v3d.oofp((azi_geo.to_arrays()[0])[quad[0]-1],\\n                  (azi_geo.to_arrays()[0])[quad[1]-1],\\n                  (azi_geo.to_arrays()[0])[quad[2]-1],\\n                  (azi_geo.to_arrays()[0])[quad[3]-1])*rad2deg\\n    \\n    #increased coordinate value half of scan\\n    pplus = np.linspace(p0, p0+15, 5)\\n    #decreased coordinate value half of scan\\n    pminus = np.linspace(p0-15, p0, 5)[:-1]\\n    #putting them together\\n    p = np.append(pminus, pplus)\\n        \\n    azi_geo = psi4.geometry(azi)\\n    #selecting left half. This set up \\n    #lets the optimization start with the optimized\\n    #coordinates, then move away from them\\n    #hence, np.flip.\\n    for i, n in enumerate(np.flip(pminus)):\\n        #options for geometry opt\\n        options={\\'scf_type\\':\\'df\\',\\n             \\'g_convergence\\':\\'gau_loose\\',\\n             \\'freeze_core\\':\\'true\\',\\n             \\'opt_coordinates\\':\\'both\\',\\n             #selecting atoms I care about and target distance\\n             \"fixed_dihedral\":\"{a} {b} {c} {d} {e}\".format(a=quad[0], \\n                                                       b=quad[1], \\n                                                       c=quad[2],\\n                                                       d=quad[3],\\n                                                       e=n),\\n             \"geom_maxiter\" : 500,\\n             \"full_hess_every\" : 0,\\n             \"dynamic_level\" : 0}\\n        psi4.set_options(options)\\n        energies[item, 3-i] = psi4.optimize(theory)\\n        p_real[item, 3-i] = v3d.oofp((azi_geo.to_arrays()[0])[quad[0]-1],\\n                                     (azi_geo.to_arrays()[0])[quad[1]-1],\\n                                     (azi_geo.to_arrays()[0])[quad[2]-1],\\n                                     (azi_geo.to_arrays()[0])[quad[3]-1])*rad2deg\\n        print(p_real[item, 3-i] - p[3-i], energies[item, 3-i] - opt_energy)\\n        \\n    azi_geo = psi4.geometry(azi)\\n    #generally the same as above but for the above half of the scan\\n    for i, n in enumerate(pplus):\\n        options={\\'scf_type\\':\\'df\\',\\n             \\'g_convergence\\':\\'gau_loose\\',\\n             \\'freeze_core\\':\\'true\\',\\n             \\'opt_coordinates\\':\\'both\\',\\n             \"fixed_oofp\":\"{a} {b} {c} {d} {e}, {f}\".format(a=quad[0], \\n                                                       b=quad[1], \\n                                                       c=quad[2],\\n                                                       d=quad[3],\\n                                                       e=n),\\n             \"geom_maxiter\" : 500,\\n             \"full_hess_every\" : 0,\\n             \"dynamic_level\" : 0}\\n        psi4.set_options(options)\\n        energies[item, 4+i] = psi4.optimize(theory)\\n        p_real[item, 4+i] = v3d.oofp((azi_geo.to_arrays()[0])[quad[0]-1],\\n                                     (azi_geo.to_arrays()[0])[quad[1]-1],\\n                                     (azi_geo.to_arrays()[0])[quad[2]-1],\\n                                     (azi_geo.to_arrays()[0])[quad[3]-1])*rad2deg\\n        print(p_real[item, 4+i] - p[4+i], energies[item, 4+i] - opt_energy)\\n    \\n    '"
      ]
     },
     "execution_count": 5,
     "metadata": {},
     "output_type": "execute_result"
    }
   ],
   "source": [
    "#used qchem instead to do scan.\n",
    "\"\"\"\n",
    "#collecting real optimized coordinate values here. \n",
    "#these wont always be the same as the values in r\n",
    "#because of \"fixed\" rather than \"frozen\" coordinate scan\n",
    "p_real = np.zeros((len(coords), 9))\n",
    "#collecting energies here\n",
    "energies = np.zeros((len(coords), 9))\n",
    "    \n",
    "for item, quad in enumerate(coords):\n",
    "    \n",
    "    #define geometry\n",
    "    azi_geo = psi4.geometry(azi)\n",
    "    #get optimized coordinate values\n",
    "    p0 = v3d.oofp((azi_geo.to_arrays()[0])[quad[0]-1],\n",
    "                  (azi_geo.to_arrays()[0])[quad[1]-1],\n",
    "                  (azi_geo.to_arrays()[0])[quad[2]-1],\n",
    "                  (azi_geo.to_arrays()[0])[quad[3]-1])*rad2deg\n",
    "    \n",
    "    #increased coordinate value half of scan\n",
    "    pplus = np.linspace(p0, p0+15, 5)\n",
    "    #decreased coordinate value half of scan\n",
    "    pminus = np.linspace(p0-15, p0, 5)[:-1]\n",
    "    #putting them together\n",
    "    p = np.append(pminus, pplus)\n",
    "        \n",
    "    azi_geo = psi4.geometry(azi)\n",
    "    #selecting left half. This set up \n",
    "    #lets the optimization start with the optimized\n",
    "    #coordinates, then move away from them\n",
    "    #hence, np.flip.\n",
    "    for i, n in enumerate(np.flip(pminus)):\n",
    "        #options for geometry opt\n",
    "        options={'scf_type':'df',\n",
    "             'g_convergence':'gau_loose',\n",
    "             'freeze_core':'true',\n",
    "             'opt_coordinates':'both',\n",
    "             #selecting atoms I care about and target distance\n",
    "             \"fixed_dihedral\":\"{a} {b} {c} {d} {e}\".format(a=quad[0], \n",
    "                                                       b=quad[1], \n",
    "                                                       c=quad[2],\n",
    "                                                       d=quad[3],\n",
    "                                                       e=n),\n",
    "             \"geom_maxiter\" : 500,\n",
    "             \"full_hess_every\" : 0,\n",
    "             \"dynamic_level\" : 0}\n",
    "        psi4.set_options(options)\n",
    "        energies[item, 3-i] = psi4.optimize(theory)\n",
    "        p_real[item, 3-i] = v3d.oofp((azi_geo.to_arrays()[0])[quad[0]-1],\n",
    "                                     (azi_geo.to_arrays()[0])[quad[1]-1],\n",
    "                                     (azi_geo.to_arrays()[0])[quad[2]-1],\n",
    "                                     (azi_geo.to_arrays()[0])[quad[3]-1])*rad2deg\n",
    "        print(p_real[item, 3-i] - p[3-i], energies[item, 3-i] - opt_energy)\n",
    "        \n",
    "    azi_geo = psi4.geometry(azi)\n",
    "    #generally the same as above but for the above half of the scan\n",
    "    for i, n in enumerate(pplus):\n",
    "        options={'scf_type':'df',\n",
    "             'g_convergence':'gau_loose',\n",
    "             'freeze_core':'true',\n",
    "             'opt_coordinates':'both',\n",
    "             \"fixed_oofp\":\"{a} {b} {c} {d} {e}, {f}\".format(a=quad[0], \n",
    "                                                       b=quad[1], \n",
    "                                                       c=quad[2],\n",
    "                                                       d=quad[3],\n",
    "                                                       e=n),\n",
    "             \"geom_maxiter\" : 500,\n",
    "             \"full_hess_every\" : 0,\n",
    "             \"dynamic_level\" : 0}\n",
    "        psi4.set_options(options)\n",
    "        energies[item, 4+i] = psi4.optimize(theory)\n",
    "        p_real[item, 4+i] = v3d.oofp((azi_geo.to_arrays()[0])[quad[0]-1],\n",
    "                                     (azi_geo.to_arrays()[0])[quad[1]-1],\n",
    "                                     (azi_geo.to_arrays()[0])[quad[2]-1],\n",
    "                                     (azi_geo.to_arrays()[0])[quad[3]-1])*rad2deg\n",
    "        print(p_real[item, 4+i] - p[4+i], energies[item, 4+i] - opt_energy)\n",
    "    \n",
    "    \"\"\""
   ]
  },
  {
   "cell_type": "code",
   "execution_count": 16,
   "metadata": {
    "scrolled": true
   },
   "outputs": [
    {
     "name": "stdout",
     "output_type": "stream",
     "text": [
      "[-5 -4 -3 -2 -1  0  1  2  3  4  5]\n"
     ]
    }
   ],
   "source": [
    "energies = np.array([\n",
    "   -359.533681738811,     \n",
    "   -359.534090884849,     \n",
    "   -359.534398717366,     \n",
    "   -359.534606708984,     \n",
    "   -359.534715801608,     \n",
    "   -359.534726895627,     \n",
    "   -359.534637986246,     \n",
    "   -359.534459031311,     \n",
    "   -359.534174041819,     \n",
    "   -359.533788883699,     \n",
    "   -359.533303207359   \n",
    "])\n",
    "\n",
    "t_real = np.arange(-5, 6, 1)\n",
    "print(t_real)"
   ]
  },
  {
   "cell_type": "code",
   "execution_count": 17,
   "metadata": {},
   "outputs": [],
   "source": [
    "energies_norm = (energies-opt_energy)*627.503"
   ]
  },
  {
   "cell_type": "code",
   "execution_count": 18,
   "metadata": {},
   "outputs": [
    {
     "name": "stdout",
     "output_type": "stream",
     "text": [
      "[0.66279634 0.40605597 0.21289014 0.08237478 0.01391883 0.0069573\n",
      " 0.0627482  0.17504296 0.35387472 0.5955626  0.90032596]\n"
     ]
    }
   ],
   "source": [
    "print(energies_norm)"
   ]
  },
  {
   "cell_type": "code",
   "execution_count": 19,
   "metadata": {},
   "outputs": [
    {
     "data": {
      "text/plain": [
       "Text(0.5, 0, 'Out-of-plane angle')"
      ]
     },
     "execution_count": 19,
     "metadata": {},
     "output_type": "execute_result"
    },
    {
     "data": {
      "image/png": "[encoded data removed]",
      "text/plain": [
       "<Figure size 640x480 with 1 Axes>"
      ]
     },
     "metadata": {},
     "output_type": "display_data"
    }
   ],
   "source": [
    "#collected data plots\n",
    "colors = ['r', 'g', 'b']\n",
    "\n",
    "plt.plot(t_real, energies_norm, '--o', color=colors[i]) \n",
    "               #plt.ylim(0, 10)\n",
    "               #plt.xlim(1.0, 2)\n",
    "        #/2+np.flip(energies_norm)/2\n",
    "plt.ylabel('Energy (kcal/mol)')\n",
    "plt.xlabel('Out-of-plane angle')"
   ]
  },
  {
   "cell_type": "code",
   "execution_count": 20,
   "metadata": {},
   "outputs": [],
   "source": [
    "def vbond(t, k, t0):\n",
    "    return k*(t-t0)**2"
   ]
  },
  {
   "cell_type": "code",
   "execution_count": 22,
   "metadata": {},
   "outputs": [],
   "source": [
    "parms = []\n",
    "                 \n",
    "parms.append(spo.curve_fit(vbond, \n",
    "                               t_real, \n",
    "                               energies_norm, \n",
    "                               p0=[70, 0]))"
   ]
  },
  {
   "cell_type": "code",
   "execution_count": 25,
   "metadata": {},
   "outputs": [
    {
     "data": {
      "text/plain": [
       "<matplotlib.legend.Legend at 0x7fd146621400>"
      ]
     },
     "execution_count": 25,
     "metadata": {},
     "output_type": "execute_result"
    },
    {
     "data": {
      "image/png": "[encoded data removed]",
      "text/plain": [
       "<Figure size 640x480 with 1 Axes>"
      ]
     },
     "metadata": {},
     "output_type": "display_data"
    }
   ],
   "source": [
    "#fitted data plots\n",
    "colors = ['r', 'g', 'b']\n",
    "\n",
    "plt.plot(t_real, energies_norm, 'o', color=colors[0], label=str(coords[i])) \n",
    "plt.plot(t_real, vbond(t_real, *parms[0][0]), '--', color=colors[0])\n",
    "plt.legend()\n",
    "#plt.ylim(0, 50)\n",
    "#plt.xlim(1.0, 2)"
   ]
  },
  {
   "cell_type": "code",
   "execution_count": 26,
   "metadata": {},
   "outputs": [
    {
     "name": "stdout",
     "output_type": "stream",
     "text": [
      "For the angle between atoms  (2, 1, 4, 3)\n",
      "the force constant is  0.031059037934693737  p/m  4.00928920117598e-05 kcal/mol/degrees^2\n",
      "and the optimal angle length is  -0.38127239842604194  p/m  0.0027690954567965867 degrees\n"
     ]
    }
   ],
   "source": [
    "print('For the angle between atoms ', str(coords[0]))\n",
    "print('the force constant is ', str(parms[0][0][0]), ' p/m ', np.sqrt(np.diag(parms[0][1]))[0], 'kcal/mol/degrees^2')\n",
    "print('and the optimal angle length is ', str(parms[0][0][1]), ' p/m ', np.sqrt(np.diag(parms[0][1]))[1], 'degrees')\n"
   ]
  },
  {
   "cell_type": "code",
   "execution_count": null,
   "metadata": {},
   "outputs": [],
   "source": []
  },
  {
   "cell_type": "code",
   "execution_count": null,
   "metadata": {},
   "outputs": [],
   "source": []
  },
  {
   "cell_type": "code",
   "execution_count": null,
   "metadata": {},
   "outputs": [],
   "source": []
  },
  {
   "cell_type": "code",
   "execution_count": null,
   "metadata": {},
   "outputs": [],
   "source": []
  },
  {
   "cell_type": "code",
   "execution_count": null,
   "metadata": {},
   "outputs": [],
   "source": []
  },
  {
   "cell_type": "code",
   "execution_count": null,
   "metadata": {},
   "outputs": [],
   "source": []
  },
  {
   "cell_type": "code",
   "execution_count": null,
   "metadata": {},
   "outputs": [],
   "source": []
  },
  {
   "cell_type": "code",
   "execution_count": null,
   "metadata": {},
   "outputs": [],
   "source": []
  },
  {
   "cell_type": "code",
   "execution_count": null,
   "metadata": {},
   "outputs": [],
   "source": []
  },
  {
   "cell_type": "code",
   "execution_count": null,
   "metadata": {},
   "outputs": [],
   "source": []
  }
 ],
 "metadata": {
  "kernelspec": {
   "display_name": "Python 3 (ipykernel)",
   "language": "python",
   "name": "python3"
  },
  "language_info": {
   "codemirror_mode": {
    "name": "ipython",
    "version": 3
   },
   "file_extension": ".py",
   "mimetype": "text/x-python",
   "name": "python",
   "nbconvert_exporter": "python",
   "pygments_lexer": "ipython3",
   "version": "3.9.17"
  }
 },
 "nbformat": 4,
 "nbformat_minor": 4
}
