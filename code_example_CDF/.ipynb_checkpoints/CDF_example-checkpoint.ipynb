{
 "cells": [
  {
   "cell_type": "code",
   "execution_count": 9,
   "id": "546fcfe6-9d10-4911-8cd6-b7f1b2443bec",
   "metadata": {},
   "outputs": [],
   "source": [
    "import numpy as np\n",
    "import matplotlib.pyplot as plt\n",
    "import scipy.stats as sps\n",
    "import mdtraj as md\n",
    "import pandas as pd\n",
    "import CDF as cdf #MUST HAVE CDF.py included in folder!!!"
   ]
  },
  {
   "cell_type": "markdown",
   "id": "c962383e-9a45-4af5-99e0-dbcaf90e457a",
   "metadata": {},
   "source": [
    "## CDF is a spatial distribution function the next step up from RDF, to assess how atoms are related along an r and z axis, usually taking the form of a cylinder. "
   ]
  },
  {
   "cell_type": "markdown",
   "id": "e0fda8af-ee5a-4398-a09f-d7c2589ebd72",
   "metadata": {},
   "source": [
    "First step is to load all of the necessary files for simulation analysis - these will have to be .h5 files. These files can be uploaded either by having this notebook in the folder where it is located or using the path as shown below"
   ]
  },
  {
   "cell_type": "code",
   "execution_count": 3,
   "id": "4d5e32df-7d77-455c-9914-aed939fa0520",
   "metadata": {},
   "outputs": [
    {
     "data": {
      "text/plain": [
       "<mdtraj.Trajectory with 12550 frames, 8521 atoms, 2839 residues, and unitcells at 0x7f91c04c5df0>"
      ]
     },
     "execution_count": 3,
     "metadata": {},
     "output_type": "execute_result"
    }
   ],
   "source": [
    "prod_traj = md.load_hdf5('/pikachu/homes/thaupt/Research/Alkyne_MD/opls/MD/HOH_sys/ppy_hoh/simulation_output/ppy-hoh_prod.h5')\n",
    "prod_traj"
   ]
  },
  {
   "cell_type": "code",
   "execution_count": 4,
   "id": "5270c2a4-87e5-4669-85f9-0503dc9b6262",
   "metadata": {},
   "outputs": [
    {
     "name": "stdout",
     "output_type": "stream",
     "text": [
      "<mdtraj.Trajectory with 12500 frames, 8521 atoms, 2839 residues, and unitcells>\n",
      "<mdtraj.Topology with 2 chains, 2839 residues, 8521 atoms, 5682 bonds>\n"
     ]
    }
   ],
   "source": [
    "# trim the first 1 ns of the trajectory\n",
    "T = prod_traj[50:12550] \n",
    "print(T)\n",
    "\n",
    "# load the topology with atom and residue info\n",
    "top = T.topology\n",
    "print(top)"
   ]
  },
  {
   "cell_type": "markdown",
   "id": "85d6a8bf-9511-411f-a715-381cb79cf29a",
   "metadata": {},
   "source": [
    "Once files are uploaded and topology specified, you can load the atoms and molecules for which you want to assess distances of. The designation of atom in this case is not a specific as with RDF since the first reference point requires a central atom of interest and a vector which points in the direction, z-dir, the cylinder shape forms.\n",
    "* center = central atom of interest; CHANGE FOR YOUR SYSTEM\n",
    "* dir = vector pointing in direction where you want the axis height, z, to go along; CHANGE FOR YOUR SYSTEM"
   ]
  },
  {
   "cell_type": "code",
   "execution_count": 6,
   "id": "970f0f7a-df3f-4b3a-a53a-c064cb4d530f",
   "metadata": {},
   "outputs": [],
   "source": [
    "# 0, 0 point of coordinate sys. in this case, the alkyne CR atom\n",
    "center = [i.index for i in top.atoms if i.name == 'C01' and i.residue.name == 'PPY'] \n",
    "\n",
    "# where does the z axis point towards? in this case, the alkyne CH atom\n",
    "dir = [i.index for i in top.atoms if i.name == 'C00' and i.residue.name == 'PPY']\n",
    "\n",
    "# Specify the solvent atom indices\n",
    "HOH_H = [atom.index for atom in top.atoms \n",
    "             if atom.element.symbol == 'H' and atom.residue.name == 'HOH']\n",
    "HOH_O = [atom.index for atom in top.atoms \n",
    "             if atom.element.symbol == 'O' and atom.residue.name == 'HOH']"
   ]
  },
  {
   "cell_type": "code",
   "execution_count": 10,
   "id": "de762435-5f62-44b0-bcfd-827bbc98985d",
   "metadata": {},
   "outputs": [],
   "source": [
    "# calculate the CDF\n",
    "\n",
    "#CDF for HOH O atoms\n",
    "N_CDF = cdf.atom_CDF(T, center, dir, HOH_O, 200)\n",
    "\n",
    "#CDF for HOH H atoms\n",
    "N2_CDF = cdf.atom_CDF(T, center, dir, HOH_H, 200)"
   ]
  },
  {
   "cell_type": "code",
   "execution_count": 11,
   "id": "be7b33b5-7442-403a-8670-6fcd5db745f9",
   "metadata": {},
   "outputs": [
    {
     "data": {
      "text/plain": [
       "(array([-4.33077669, -4.2872513 , -4.2437259 , -4.20020051, -4.15667512,\n",
       "        -4.11314972, -4.06962433, -4.02609893, -3.98257354, -3.93904815,\n",
       "        -3.89552275, -3.85199736, -3.80847196, -3.76494657, -3.72142118,\n",
       "        -3.67789578, -3.63437039, -3.590845  , -3.5473196 , -3.50379421,\n",
       "        -3.46026881, -3.41674342, -3.37321803, -3.32969263, -3.28616724,\n",
       "        -3.24264184, -3.19911645, -3.15559106, -3.11206566, -3.06854027,\n",
       "        -3.02501487, -2.98148948, -2.93796409, -2.89443869, -2.8509133 ,\n",
       "        -2.80738791, -2.76386251, -2.72033712, -2.67681172, -2.63328633,\n",
       "        -2.58976094, -2.54623554, -2.50271015, -2.45918475, -2.41565936,\n",
       "        -2.37213397, -2.32860857, -2.28508318, -2.24155779, -2.19803239,\n",
       "        -2.154507  , -2.1109816 , -2.06745621, -2.02393082, -1.98040542,\n",
       "        -1.93688003, -1.89335463, -1.84982924, -1.80630385, -1.76277845,\n",
       "        -1.71925306, -1.67572766, -1.63220227, -1.58867688, -1.54515148,\n",
       "        -1.50162609, -1.4581007 , -1.4145753 , -1.37104991, -1.32752451,\n",
       "        -1.28399912, -1.24047373, -1.19694833, -1.15342294, -1.10989754,\n",
       "        -1.06637215, -1.02284676, -0.97932136, -0.93579597, -0.89227057,\n",
       "        -0.84874518, -0.80521979, -0.76169439, -0.718169  , -0.67464361,\n",
       "        -0.63111821, -0.58759282, -0.54406742, -0.50054203, -0.45701664,\n",
       "        -0.41349124, -0.36996585, -0.32644045, -0.28291506, -0.23938967,\n",
       "        -0.19586427, -0.15233888, -0.10881348, -0.06528809, -0.0217627 ,\n",
       "         0.0217627 ,  0.06528809,  0.10881348,  0.15233888,  0.19586427,\n",
       "         0.23938967,  0.28291506,  0.32644045,  0.36996585,  0.41349124,\n",
       "         0.45701664,  0.50054203,  0.54406742,  0.58759282,  0.63111821,\n",
       "         0.67464361,  0.718169  ,  0.76169439,  0.80521979,  0.84874518,\n",
       "         0.89227057,  0.93579597,  0.97932136,  1.02284676,  1.06637215,\n",
       "         1.10989754,  1.15342294,  1.19694833,  1.24047373,  1.28399912,\n",
       "         1.32752451,  1.37104991,  1.4145753 ,  1.4581007 ,  1.50162609,\n",
       "         1.54515148,  1.58867688,  1.63220227,  1.67572766,  1.71925306,\n",
       "         1.76277845,  1.80630385,  1.84982924,  1.89335463,  1.93688003,\n",
       "         1.98040542,  2.02393082,  2.06745621,  2.1109816 ,  2.154507  ,\n",
       "         2.19803239,  2.24155779,  2.28508318,  2.32860857,  2.37213397,\n",
       "         2.41565936,  2.45918475,  2.50271015,  2.54623554,  2.58976094,\n",
       "         2.63328633,  2.67681172,  2.72033712,  2.76386251,  2.80738791,\n",
       "         2.8509133 ,  2.89443869,  2.93796409,  2.98148948,  3.02501487,\n",
       "         3.06854027,  3.11206566,  3.15559106,  3.19911645,  3.24264184,\n",
       "         3.28616724,  3.32969263,  3.37321803,  3.41674342,  3.46026881,\n",
       "         3.50379421,  3.5473196 ,  3.590845  ,  3.63437039,  3.67789578,\n",
       "         3.72142118,  3.76494657,  3.80847196,  3.85199736,  3.89552275,\n",
       "         3.93904815,  3.98257354,  4.02609893,  4.06962433,  4.11314972,\n",
       "         4.15667512,  4.20020051,  4.2437259 ,  4.2872513 ,  4.33077669]),\n",
       " array([-4.33077669, -4.2872513 , -4.2437259 , -4.20020051, -4.15667512,\n",
       "        -4.11314972, -4.06962433, -4.02609893, -3.98257354, -3.93904815,\n",
       "        -3.89552275, -3.85199736, -3.80847196, -3.76494657, -3.72142118,\n",
       "        -3.67789578, -3.63437039, -3.590845  , -3.5473196 , -3.50379421,\n",
       "        -3.46026881, -3.41674342, -3.37321803, -3.32969263, -3.28616724,\n",
       "        -3.24264184, -3.19911645, -3.15559106, -3.11206566, -3.06854027,\n",
       "        -3.02501487, -2.98148948, -2.93796409, -2.89443869, -2.8509133 ,\n",
       "        -2.80738791, -2.76386251, -2.72033712, -2.67681172, -2.63328633,\n",
       "        -2.58976094, -2.54623554, -2.50271015, -2.45918475, -2.41565936,\n",
       "        -2.37213397, -2.32860857, -2.28508318, -2.24155779, -2.19803239,\n",
       "        -2.154507  , -2.1109816 , -2.06745621, -2.02393082, -1.98040542,\n",
       "        -1.93688003, -1.89335463, -1.84982924, -1.80630385, -1.76277845,\n",
       "        -1.71925306, -1.67572766, -1.63220227, -1.58867688, -1.54515148,\n",
       "        -1.50162609, -1.4581007 , -1.4145753 , -1.37104991, -1.32752451,\n",
       "        -1.28399912, -1.24047373, -1.19694833, -1.15342294, -1.10989754,\n",
       "        -1.06637215, -1.02284676, -0.97932136, -0.93579597, -0.89227057,\n",
       "        -0.84874518, -0.80521979, -0.76169439, -0.718169  , -0.67464361,\n",
       "        -0.63111821, -0.58759282, -0.54406742, -0.50054203, -0.45701664,\n",
       "        -0.41349124, -0.36996585, -0.32644045, -0.28291506, -0.23938967,\n",
       "        -0.19586427, -0.15233888, -0.10881348, -0.06528809, -0.0217627 ,\n",
       "         0.0217627 ,  0.06528809,  0.10881348,  0.15233888,  0.19586427,\n",
       "         0.23938967,  0.28291506,  0.32644045,  0.36996585,  0.41349124,\n",
       "         0.45701664,  0.50054203,  0.54406742,  0.58759282,  0.63111821,\n",
       "         0.67464361,  0.718169  ,  0.76169439,  0.80521979,  0.84874518,\n",
       "         0.89227057,  0.93579597,  0.97932136,  1.02284676,  1.06637215,\n",
       "         1.10989754,  1.15342294,  1.19694833,  1.24047373,  1.28399912,\n",
       "         1.32752451,  1.37104991,  1.4145753 ,  1.4581007 ,  1.50162609,\n",
       "         1.54515148,  1.58867688,  1.63220227,  1.67572766,  1.71925306,\n",
       "         1.76277845,  1.80630385,  1.84982924,  1.89335463,  1.93688003,\n",
       "         1.98040542,  2.02393082,  2.06745621,  2.1109816 ,  2.154507  ,\n",
       "         2.19803239,  2.24155779,  2.28508318,  2.32860857,  2.37213397,\n",
       "         2.41565936,  2.45918475,  2.50271015,  2.54623554,  2.58976094,\n",
       "         2.63328633,  2.67681172,  2.72033712,  2.76386251,  2.80738791,\n",
       "         2.8509133 ,  2.89443869,  2.93796409,  2.98148948,  3.02501487,\n",
       "         3.06854027,  3.11206566,  3.15559106,  3.19911645,  3.24264184,\n",
       "         3.28616724,  3.32969263,  3.37321803,  3.41674342,  3.46026881,\n",
       "         3.50379421,  3.5473196 ,  3.590845  ,  3.63437039,  3.67789578,\n",
       "         3.72142118,  3.76494657,  3.80847196,  3.85199736,  3.89552275,\n",
       "         3.93904815,  3.98257354,  4.02609893,  4.06962433,  4.11314972,\n",
       "         4.15667512,  4.20020051,  4.2437259 ,  4.2872513 ,  4.33077669]),\n",
       " array([[0., 0., 0., ..., 0., 0., 0.],\n",
       "        [0., 0., 0., ..., 0., 0., 0.],\n",
       "        [0., 0., 0., ..., 0., 0., 0.],\n",
       "        ...,\n",
       "        [0., 0., 0., ..., 0., 0., 0.],\n",
       "        [0., 0., 0., ..., 0., 0., 0.],\n",
       "        [0., 0., 0., ..., 0., 0., 0.]]))"
      ]
     },
     "execution_count": 11,
     "metadata": {},
     "output_type": "execute_result"
    }
   ],
   "source": [
    "# Example of output for a single CDF calculation\n",
    "N_CDF"
   ]
  },
  {
   "cell_type": "markdown",
   "id": "6b7495a3-ff3a-4c91-a9a6-09f7dd83097d",
   "metadata": {},
   "source": [
    "Now, save the CDF values as numpy arrays for easier plotting of CDF figures:"
   ]
  },
  {
   "cell_type": "code",
   "execution_count": 12,
   "id": "531a284e-0a75-4a76-b1f8-ef71c9384a1f",
   "metadata": {},
   "outputs": [],
   "source": [
    "np.save('r-CDF_PPY', N_CDF[0])\n",
    "np.save('z-CDF_PPY', N_CDF[1])\n",
    "np.save('O-CDF_PPY', N_CDF[2])"
   ]
  },
  {
   "cell_type": "code",
   "execution_count": null,
   "id": "fb4c9adc-0ead-475a-8e83-330c668f3469",
   "metadata": {},
   "outputs": [],
   "source": []
  }
 ],
 "metadata": {
  "kernelspec": {
   "display_name": "Python 3 (ipykernel)",
   "language": "python",
   "name": "python3"
  },
  "language_info": {
   "codemirror_mode": {
    "name": "ipython",
    "version": 3
   },
   "file_extension": ".py",
   "mimetype": "text/x-python",
   "name": "python",
   "nbconvert_exporter": "python",
   "pygments_lexer": "ipython3",
   "version": "3.8.18"
  }
 },
 "nbformat": 4,
 "nbformat_minor": 5
}
