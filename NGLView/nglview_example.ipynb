{
 "cells": [
  {
   "cell_type": "code",
   "execution_count": 1,
   "id": "adeace6f",
   "metadata": {},
   "outputs": [
    {
     "data": {
      "application/vnd.jupyter.widget-view+json": {
       "model_id": "5118a0725db94ab897d7bcbf935edd6b",
       "version_major": 2,
       "version_minor": 0
      },
      "text/plain": []
     },
     "metadata": {},
     "output_type": "display_data"
    }
   ],
   "source": [
    "import nglview as nv\n",
    "import mdtraj as md"
   ]
  },
  {
   "cell_type": "code",
   "execution_count": 2,
   "id": "9a303f77-ee1e-4242-8935-d917e5135c00",
   "metadata": {},
   "outputs": [],
   "source": [
    "traj = md.load('dinitrobenzine.pdb')"
   ]
  },
  {
   "cell_type": "code",
   "execution_count": 3,
   "id": "d699560f-4867-4751-89db-12bb486fb7d6",
   "metadata": {},
   "outputs": [],
   "source": [
    "view = nv.show_mdtraj(traj)"
   ]
  },
  {
   "cell_type": "code",
   "execution_count": 19,
   "id": "a5b9d9c8-0120-4bb2-99f3-ac442ba92e4c",
   "metadata": {},
   "outputs": [],
   "source": [
    "view.representations = [\n",
    "    {\"type\": \"licorice\", \"params\": {\n",
    "        \"sele\": \"all\", \"color\": \"element\"\n",
    "    }},\n",
    "    {\"type\": \"ball+stick\", \"params\": {\n",
    "        \"sele\": \"ring\", \"color\": \"element\"\n",
    "    }},\n",
    "    {\"type\": \"spacefill\", \"params\": {\n",
    "        \"sele\": \".H\", \"color\": \"element\"\n",
    "    }}\n",
    "]"
   ]
  },
  {
   "cell_type": "code",
   "execution_count": 18,
   "id": "f94c4fbf-906e-4f96-9751-e57d2e38e29b",
   "metadata": {},
   "outputs": [
    {
     "data": {
      "application/vnd.jupyter.widget-view+json": {
       "model_id": "dd74ea80efaa40c4b637cf16303b19d4",
       "version_major": 2,
       "version_minor": 0
      },
      "text/plain": [
       "NGLWidget(n_components=1, picked={'bond': {'atomIndex1': 2, 'atomIndex2': 3, 'bondOrder': 1}, 'atom1': {'index…"
      ]
     },
     "metadata": {},
     "output_type": "display_data"
    }
   ],
   "source": [
    "view"
   ]
  },
  {
   "cell_type": "code",
   "execution_count": 6,
   "id": "e808eb26-c426-4736-9de2-32b85e455d04",
   "metadata": {},
   "outputs": [],
   "source": [
    "view.download_image('dinitrobenzine.png', transparent=True, trim=True, factor=15)"
   ]
  },
  {
   "cell_type": "code",
   "execution_count": null,
   "id": "095b216f-0ed6-4961-ae22-9e820dab82f1",
   "metadata": {},
   "outputs": [],
   "source": []
  },
  {
   "cell_type": "code",
   "execution_count": null,
   "id": "fe2cb4b1-1d28-4299-97fb-5b9c36fe67ee",
   "metadata": {},
   "outputs": [],
   "source": []
  },
  {
   "cell_type": "code",
   "execution_count": null,
   "id": "9432bf6a-e966-4ae2-bbdf-1adca9c18bf8",
   "metadata": {},
   "outputs": [],
   "source": []
  },
  {
   "cell_type": "code",
   "execution_count": null,
   "id": "885863d8-94c9-44f6-bece-b64b0bfc40fe",
   "metadata": {},
   "outputs": [],
   "source": []
  },
  {
   "cell_type": "code",
   "execution_count": 2,
   "id": "c49d1830",
   "metadata": {},
   "outputs": [],
   "source": [
    "traj = md.load('post_min.pdb')\n",
    "traj = traj.image_molecules(inplace=True)\n",
    "view = nv.show_mdtraj(traj)"
   ]
  },
  {
   "cell_type": "code",
   "execution_count": 28,
   "id": "69786133",
   "metadata": {},
   "outputs": [],
   "source": [
    "view.representations = [\n",
    "    {\"type\": \"unitcell\", \"params\": {\n",
    "        \"sele\": \"water\", \"color\": \"element\", \n",
    "    }},\n",
    "      {\"type\": \"cartoon\", \"params\": {\n",
    "        \"sele\": \"protein\", \"color\": \"sstruc\"\n",
    "    }},\n",
    "    {\"type\": \"ball+stick\", \"params\": {\n",
    "        \"sele\": \"sidechainAttached\", \"color\": \"element\"\n",
    "    }},\n",
    "      {\"type\": \"spacefill\", \"params\": {\n",
    "        \"sele\": \"ion\", \"color\": \"element\"\n",
    "    }}\n",
    "]\n",
    "view.center()"
   ]
  },
  {
   "cell_type": "code",
   "execution_count": 30,
   "id": "e9270d0e",
   "metadata": {},
   "outputs": [
    {
     "data": {
      "application/vnd.jupyter.widget-view+json": {
       "model_id": "ad827c56b9ee4c4196d833a699fe1404",
       "version_major": 2,
       "version_minor": 0
      },
      "text/plain": [
       "NGLWidget(n_components=1, picked={'atom1': {'index': 482, 'residueIndex': 30, 'resname': 'GLU', 'x': 17.250999…"
      ]
     },
     "metadata": {},
     "output_type": "display_data"
    }
   ],
   "source": [
    "view"
   ]
  },
  {
   "cell_type": "code",
   "execution_count": 33,
   "id": "2019ad80",
   "metadata": {},
   "outputs": [],
   "source": [
    "view.download_image('post_min.png', transparent=True, trim=True, factor=15)"
   ]
  },
  {
   "cell_type": "code",
   "execution_count": null,
   "id": "99ea732d-bb54-4391-99c2-40371ca61203",
   "metadata": {},
   "outputs": [],
   "source": []
  }
 ],
 "metadata": {
  "kernelspec": {
   "display_name": "Python 3 (ipykernel)",
   "language": "python",
   "name": "python3"
  },
  "language_info": {
   "codemirror_mode": {
    "name": "ipython",
    "version": 3
   },
   "file_extension": ".py",
   "mimetype": "text/x-python",
   "name": "python",
   "nbconvert_exporter": "python",
   "pygments_lexer": "ipython3",
   "version": "3.11.6"
  }
 },
 "nbformat": 4,
 "nbformat_minor": 5
}
