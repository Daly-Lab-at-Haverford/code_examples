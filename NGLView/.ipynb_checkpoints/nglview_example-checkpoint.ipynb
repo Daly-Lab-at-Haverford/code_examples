{
 "cells": [
  {
   "cell_type": "markdown",
   "id": "e8e4bfab-a29d-41de-8f8f-835ec1a3b85f",
   "metadata": {},
   "source": [
    "# NGLView Example\n",
    "\n",
    "First, we load the needed packages, nglview (as nv) and mdtraj (as md)."
   ]
  },
  {
   "cell_type": "code",
   "execution_count": 24,
   "id": "adeace6f",
   "metadata": {},
   "outputs": [],
   "source": [
    "import nglview as nv\n",
    "import mdtraj as md"
   ]
  },
  {
   "cell_type": "markdown",
   "id": "16964348-1501-4ff0-9862-4194490666a2",
   "metadata": {},
   "source": [
    "We use mdtraj to load the trajectory. This can be the path to a h5 file, pdb, dcd, or anything else mdtraj can read with molecular information. However, the file will need to have topology information or be loaded with a file that does. In most cases, this means that you need to load a PDB and also your file of interest. In the case of an h5 file, we could run:\n",
    "\n",
    "`traj = md.load('dinitrobenzine.h5', top='dinitrobenzine.pdb')`\n",
    "\n",
    "We're loading a simple dinitrobenzine molecule."
   ]
  },
  {
   "cell_type": "code",
   "execution_count": 25,
   "id": "9a303f77-ee1e-4242-8935-d917e5135c00",
   "metadata": {},
   "outputs": [],
   "source": [
    "traj = md.load('dinitrobenzine.pdb')"
   ]
  },
  {
   "cell_type": "markdown",
   "id": "cbff0ec0-1a7c-4cf4-91f8-9ba75589d4d1",
   "metadata": {},
   "source": [
    "Now we create a \"view\" which we can use to see the structure. To do this, we use nglview's `show_mdtraj()` function on the mdtraj trajectory."
   ]
  },
  {
   "cell_type": "code",
   "execution_count": 26,
   "id": "d699560f-4867-4751-89db-12bb486fb7d6",
   "metadata": {},
   "outputs": [],
   "source": [
    "view = nv.show_mdtraj(traj)"
   ]
  },
  {
   "cell_type": "markdown",
   "id": "1f885192-86fd-4028-b70f-8d8b59d29070",
   "metadata": {},
   "source": [
    "Now we manipulate the view by modifying the representations. Here, I have three representations.\n",
    "\n",
    "1. Type: Licorice, Selection: All, Color: Element  \n",
    "    * I'm selecting all atoms and showing them via a \"licorice\" representation. The different atoms will be colored according to their elements (C - grey, H - white, O - red, N - blue).\n",
    "2. Type: Ball and Stick, Selection: Ring, Color: Element\n",
    "    * I'm selecting atoms in the ring and showing them via a traditional ball and stick representation. The coloring is the same as above.\n",
    "3. Type: Spacefill, Selection: H atoms, Color: Element\n",
    "    * I'm selecting H atoms and showing them via a spacefilling representation. The coloring is the same as above.\n",
    "  \n",
    "Remember that you can go to the following pages to find more selection, coloring, and representation options:\n",
    "\n",
    "* Coloring schemes: https://nglviewer.org/ngl/api/manual/coloring.html \n",
    "    * You can also just use common color names i.e. \"red\", \"green\", \"blue\".\n",
    "* Molecular representations: https://nglviewer.org/ngl/api/manual/molecular-representations.html\n",
    "* Selection language: https://nglviewer.org/ngl/api/manual/selection-language.html\n"
   ]
  },
  {
   "cell_type": "code",
   "execution_count": 27,
   "id": "a5b9d9c8-0120-4bb2-99f3-ac442ba92e4c",
   "metadata": {},
   "outputs": [],
   "source": [
    "view.representations = [\n",
    "    {\"type\": \"licorice\", \"params\": {\n",
    "        \"sele\": \"all\", \"color\": \"element\"\n",
    "    }},\n",
    "    {\"type\": \"ball+stick\", \"params\": {\n",
    "        \"sele\": \"ring\", \"color\": \"element\"\n",
    "    }},\n",
    "    {\"type\": \"spacefill\", \"params\": {\n",
    "        \"sele\": \".H\", \"color\": \"element\"\n",
    "    }}\n",
    "]\n"
   ]
  },
  {
   "cell_type": "markdown",
   "id": "d1015ac1-4410-4102-bdb4-4786622127f3",
   "metadata": {},
   "source": [
    "The next cell will produce the image. You can change the representations in the cell above and the view below will automatically update."
   ]
  },
  {
   "cell_type": "code",
   "execution_count": 28,
   "id": "f94c4fbf-906e-4f96-9751-e57d2e38e29b",
   "metadata": {},
   "outputs": [
    {
     "data": {
      "application/vnd.jupyter.widget-view+json": {
       "model_id": "2af61e479f654141b6888745880e7670",
       "version_major": 2,
       "version_minor": 0
      },
      "text/plain": [
       "NGLWidget()"
      ]
     },
     "metadata": {},
     "output_type": "display_data"
    }
   ],
   "source": [
    "view"
   ]
  },
  {
   "cell_type": "markdown",
   "id": "5c9fde53-23fb-452c-b327-59b0c4c2cc52",
   "metadata": {},
   "source": [
    "Finally, in the cell below we can save the image we've created. The image will be downloaded to the same location where your browser places downloaded files. Note that `download_image()` is used on the view of interest. The options for the `download_image()` function are \n",
    "\n",
    "1. filename: `string` - the name of the downloaded image file\n",
    "2. transparent: `True` or `False` - does the resulting file have a background? You'll usually want this to be set to `True`.\n",
    "3. trim:  `True` or `False` - is extra whitespace removed from the image? You'll usually want this to be set to `True`.\n",
    "4. factor: `float` - how high is the quality of the image? Larger numbers are higher quality. 15 is approximately publication quality."
   ]
  },
  {
   "cell_type": "code",
   "execution_count": 6,
   "id": "e808eb26-c426-4736-9de2-32b85e455d04",
   "metadata": {},
   "outputs": [],
   "source": [
    "view.download_image('dinitrobenzine.png', transparent=True, trim=True, factor=15)"
   ]
  },
  {
   "cell_type": "markdown",
   "id": "3d30ba66-0781-4395-8708-ebeed41d4c0e",
   "metadata": {},
   "source": [
    "For a more complex example, let's load a protein structure. This structure also has solvating water and counterions to neutralize the overall charge of the ACP molecule. We also use the function `image_molecules()` with the `inplace=True` option, which automatically centers the protein in the periodic box. Finally, we create a view with a distinct name from the one above. The new name will allow us to work with this new structure without disturbing the image above."
   ]
  },
  {
   "cell_type": "code",
   "execution_count": 31,
   "id": "c49d1830",
   "metadata": {},
   "outputs": [],
   "source": [
    "traj = md.load('post_min.pdb')\n",
    "traj.image_molecules(inplace=True)\n",
    "view_prot = nv.show_mdtraj(traj)"
   ]
  },
  {
   "cell_type": "markdown",
   "id": "d94974c9-1a60-4351-99b0-4d76634cf16b",
   "metadata": {},
   "source": [
    "Now we manipulate the view by modifying the representations. Here, I have five representations.\n",
    "\n",
    "1. Type: Unitcell, Selection: Water, Color: Element  \n",
    "    * This shows the periodic box walls around the system. If you change the type to `\"ball+stick\"`, you'll see all the water molecules.\n",
    "2. Type: Cartoon, Selection: Protein, Color: Secondary Structure\n",
    "    * This shows a protein cartoon, with the secoondary structure highlighted in different colors. You'll see that the alpha helicies are in purple and the turns are in white. \n",
    "3. Type: Ball and Stick, Selection: Hydrophobic Residues, Color: Grey\n",
    "    * This shows the hydrophobic resdiues in grey.\n",
    "4. Type: Ball and Stick, Selection: Protein and Hydrophobic Residues, Color: Blue\n",
    "    * Overall, this shows the hydrophilic resdiues in grey. Notice how I use logical `and` and `not` notation. \n",
    "5. Type: Spacefill, Selection: Ion, Color: Element\n",
    "    * This shows the Na+ ions in the system.  \n",
    "  \n",
    "Remember that you can go to the following pages to find more selection, coloring, and representation options:\n",
    "\n",
    "* Coloring schemes: https://nglviewer.org/ngl/api/manual/coloring.html \n",
    "    * You can also just use common color names i.e. \"red\", \"green\", \"blue\".\n",
    "* Molecular representations: https://nglviewer.org/ngl/api/manual/molecular-representations.html\n",
    "* Selection language: https://nglviewer.org/ngl/api/manual/selection-language.html\n"
   ]
  },
  {
   "cell_type": "code",
   "execution_count": 32,
   "id": "69786133",
   "metadata": {},
   "outputs": [],
   "source": [
    "view_prot.representations = [\n",
    "    #1\n",
    "    {\"type\": \"unitcell\", \"params\": {\n",
    "        \"sele\": \"water\", \"color\": \"element\", \n",
    "    }},\n",
    "    #2\n",
    "      {\"type\": \"cartoon\", \"params\": {\n",
    "        \"sele\": \"protein\", \"color\": \"sstruc\"\n",
    "    }},\n",
    "    #3\n",
    "    {\"type\": \"ball+stick\", \"params\": {\n",
    "        \"sele\": \"hydrophobic\", \"color\": \"grey\"\n",
    "    }},\n",
    "    #4\n",
    "    {\"type\": \"ball+stick\", \"params\": {\n",
    "        \"sele\": \"protein and not hydrophobic\", \"color\": \"blue\"\n",
    "    }},\n",
    "    #5\n",
    "      {\"type\": \"spacefill\", \"params\": {\n",
    "        \"sele\": \"ion\", \"color\": \"element\"\n",
    "    }}\n",
    "]\n"
   ]
  },
  {
   "cell_type": "markdown",
   "id": "af57383e-07b7-4d58-b321-0463661c53db",
   "metadata": {},
   "source": [
    "The next cell will produce the image. You can change the representations in the cell above and the view below will automatically update."
   ]
  },
  {
   "cell_type": "code",
   "execution_count": 33,
   "id": "e9270d0e",
   "metadata": {},
   "outputs": [
    {
     "data": {
      "application/vnd.jupyter.widget-view+json": {
       "model_id": "b5f6fd3d33524c4683b633c0beb7fa73",
       "version_major": 2,
       "version_minor": 0
      },
      "text/plain": [
       "NGLWidget()"
      ]
     },
     "metadata": {},
     "output_type": "display_data"
    }
   ],
   "source": [
    "view_prot"
   ]
  },
  {
   "cell_type": "markdown",
   "id": "5ea428ac-d381-414b-8463-bc6d86929e8a",
   "metadata": {},
   "source": [
    "Finally, in the cell below we can save the image we've created. The image will be downloaded to the same location where your browser places downloaded files. Note that `download_image()` is used on the view of interest. The options for the `download_image()` function are \n",
    "\n",
    "1. filename: `string` - the name of the downloaded image file\n",
    "2. transparent: `True` or `False` - does the resulting file have a background? You'll usually want this to be set to `True`.\n",
    "3. trim:  `True` or `False` - is extra whitespace removed from the image? You'll usually want this to be set to `True`.\n",
    "4. factor: `float` - how high is the quality of the image? Larger numbers are higher quality. 15 is approximately publication quality."
   ]
  },
  {
   "cell_type": "code",
   "execution_count": null,
   "id": "2019ad80",
   "metadata": {},
   "outputs": [],
   "source": [
    "view_prot.download_image('post_min.png', transparent=True, trim=True, factor=15)"
   ]
  },
  {
   "cell_type": "code",
   "execution_count": null,
   "id": "99ea732d-bb54-4391-99c2-40371ca61203",
   "metadata": {},
   "outputs": [],
   "source": []
  },
  {
   "cell_type": "code",
   "execution_count": null,
   "id": "49bef58b-c490-4144-b0ad-034e1d18451a",
   "metadata": {},
   "outputs": [],
   "source": []
  },
  {
   "cell_type": "code",
   "execution_count": null,
   "id": "d24ac468-e3e2-4aa1-adf7-958a8129d02f",
   "metadata": {},
   "outputs": [],
   "source": []
  },
  {
   "cell_type": "code",
   "execution_count": null,
   "id": "b7d07762-ece8-499e-bf35-657207010270",
   "metadata": {},
   "outputs": [],
   "source": []
  },
  {
   "cell_type": "code",
   "execution_count": null,
   "id": "68c286ac-8657-4e2f-87ea-96548d04b0d5",
   "metadata": {},
   "outputs": [],
   "source": []
  }
 ],
 "metadata": {
  "kernelspec": {
   "display_name": "Python 3 (ipykernel)",
   "language": "python",
   "name": "python3"
  },
  "language_info": {
   "codemirror_mode": {
    "name": "ipython",
    "version": 3
   },
   "file_extension": ".py",
   "mimetype": "text/x-python",
   "name": "python",
   "nbconvert_exporter": "python",
   "pygments_lexer": "ipython3",
   "version": "3.11.6"
  }
 },
 "nbformat": 4,
 "nbformat_minor": 5
}
