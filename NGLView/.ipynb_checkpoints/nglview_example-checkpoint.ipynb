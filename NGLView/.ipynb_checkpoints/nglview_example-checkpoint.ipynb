{
 "cells": [
  {
   "cell_type": "markdown",
   "metadata": {},
   "source": [
    "# NGLView Example\n",
    "\n",
    "First, we load the needed packages, nglview (as nv) and mdtraj (as md)."
   ]
  },
  {
   "cell_type": "code",
   "execution_count": 28,
   "metadata": {},
   "outputs": [],
   "source": [
    "import nglview as nv\n",
    "import mdtraj as md\n",
    "import numpy as np"
   ]
  },
  {
   "cell_type": "markdown",
   "metadata": {},
   "source": [
    "We use mdtraj to load the trajectory. This can be the path to a h5 file, pdb, dcd, or anything else mdtraj can read with molecular information. However, the file will need to have topology information or be loaded with a file that does. In most cases, this means that you need to load a PDB and also your file of interest. In the case of an h5 file, we could run:\n",
    "\n",
    "`traj = md.load('dinitrobenzine.h5', top='dinitrobenzine.pdb')`\n",
    "\n",
    "We're loading a simple dinitrobenzine molecule."
   ]
  },
  {
   "cell_type": "code",
   "execution_count": 2,
   "metadata": {},
   "outputs": [],
   "source": [
    "traj = md.load('dinitrobenzine.pdb')"
   ]
  },
  {
   "cell_type": "markdown",
   "metadata": {},
   "source": [
    "Now we create a \"view\" which we can use to see the structure. To do this, we use nglview's `show_mdtraj()` function on the mdtraj trajectory."
   ]
  },
  {
   "cell_type": "code",
   "execution_count": 3,
   "metadata": {},
   "outputs": [],
   "source": [
    "view = nv.show_mdtraj(traj)"
   ]
  },
  {
   "cell_type": "markdown",
   "metadata": {},
   "source": [
    "Now we manipulate the view by modifying the representations. Here, I have three representations.\n",
    "\n",
    "1. Type: Licorice, Selection: All, Color: Element  \n",
    "    * I'm selecting all atoms and showing them via a \"licorice\" representation. The different atoms will be colored according to their elements (C - grey, H - white, O - red, N - blue).\n",
    "2. Type: Ball and Stick, Selection: Ring, Color: Element\n",
    "    * I'm selecting atoms in the ring and showing them via a traditional ball and stick representation. The coloring is the same as above.\n",
    "3. Type: Spacefill, Selection: H atoms, Color: Element\n",
    "    * I'm selecting H atoms and showing them via a spacefilling representation. The coloring is the same as above.\n",
    "  \n",
    "Remember that you can go to the following pages to find more selection, coloring, and representation options:\n",
    "\n",
    "* Coloring schemes: https://nglviewer.org/ngl/api/manual/coloring.html \n",
    "    * You can also just use common color names i.e. \"red\", \"green\", \"blue\".\n",
    "* Molecular representations: https://nglviewer.org/ngl/api/manual/molecular-representations.html\n",
    "* Selection language: https://nglviewer.org/ngl/api/manual/selection-language.html\n"
   ]
  },
  {
   "cell_type": "code",
   "execution_count": 4,
   "metadata": {},
   "outputs": [],
   "source": [
    "view.representations = [\n",
    "    {\"type\": \"licorice\", \"params\": {\n",
    "        \"sele\": \"all\", \"color\": \"element\"\n",
    "    }},\n",
    "    {\"type\": \"ball+stick\", \"params\": {\n",
    "        \"sele\": \"ring\", \"color\": \"element\"\n",
    "    }},\n",
    "    {\"type\": \"spacefill\", \"params\": {\n",
    "        \"sele\": \".H\", \"color\": \"element\"\n",
    "    }}\n",
    "]\n"
   ]
  },
  {
   "cell_type": "markdown",
   "metadata": {},
   "source": [
    "The next cell will produce the image. You can change the representations in the cell above and the view below will automatically update."
   ]
  },
  {
   "cell_type": "code",
   "execution_count": 5,
   "metadata": {},
   "outputs": [
    {
     "data": {
      "application/vnd.jupyter.widget-view+json": {
       "model_id": "4301f1c44b444a5cb0e23934654cda68",
       "version_major": 2,
       "version_minor": 0
      },
      "text/plain": [
       "NGLWidget()"
      ]
     },
     "metadata": {},
     "output_type": "display_data"
    }
   ],
   "source": [
    "view"
   ]
  },
  {
   "cell_type": "markdown",
   "metadata": {},
   "source": [
    "Finally, in the cell below we can save the image we've created. The image will be downloaded to the same location where your browser places downloaded files. Note that `download_image()` is used on the view of interest. The options for the `download_image()` function are \n",
    "\n",
    "1. filename: `string` - the name of the downloaded image file\n",
    "2. transparent: `True` or `False` - does the resulting file have a background? You'll usually want this to be set to `True`.\n",
    "3. trim:  `True` or `False` - is extra whitespace removed from the image? You'll usually want this to be set to `True`.\n",
    "4. factor: `float` - how high is the quality of the image? Larger numbers are higher quality. 15 is approximately publication quality."
   ]
  },
  {
   "cell_type": "code",
   "execution_count": 6,
   "metadata": {},
   "outputs": [],
   "source": [
    "view.download_image('dinitrobenzine.png', transparent=True, trim=True, factor=15)"
   ]
  },
  {
   "cell_type": "markdown",
   "metadata": {},
   "source": [
    "For a more complex example, let's load a protein structure. This structure also has solvating water and counterions to neutralize the overall charge of the ACP molecule. We also use the function `image_molecules()` with the `inplace=True` option, which automatically centers the protein in the periodic box. Finally, we create a view with a distinct name from the one above. The new name will allow us to work with this new structure without disturbing the image above."
   ]
  },
  {
   "cell_type": "code",
   "execution_count": 74,
   "metadata": {},
   "outputs": [],
   "source": [
    "traj = md.load('post_min.pdb')\n",
    "traj.image_molecules(inplace=True)\n",
    "view_prot = nv.show_mdtraj(traj)"
   ]
  },
  {
   "cell_type": "markdown",
   "metadata": {},
   "source": [
    "Now we manipulate the view by modifying the representations. Here, I have five representations.\n",
    "\n",
    "1. Type: Unitcell, Selection: Water, Color: Element  \n",
    "    * This shows the periodic box walls around the system. If you change the type to `\"ball+stick\"`, you'll see all the water molecules.\n",
    "2. Type: Cartoon, Selection: Protein, Color: Secondary Structure\n",
    "    * This shows a protein cartoon, with the secoondary structure highlighted in different colors. You'll see that the alpha helicies are in purple and the turns are in white. \n",
    "3. Type: Ball and Stick, Selection: Hydrophobic Residues, Color: Grey\n",
    "    * This shows the hydrophobic resdiues in grey.\n",
    "4. Type: Ball and Stick, Selection: Protein and Hydrophobic Residues, Color: Blue\n",
    "    * Overall, this shows the hydrophilic resdiues in grey. Notice how I use logical `and` and `not` notation. \n",
    "5. Type: Spacefill, Selection: Ion, Color: Element\n",
    "    * This shows the Na+ ions in the system.  \n",
    "  \n",
    "Remember that you can go to the following pages to find more selection, coloring, and representation options:\n",
    "\n",
    "* Coloring schemes: https://nglviewer.org/ngl/api/manual/coloring.html \n",
    "    * You can also just use common color names i.e. \"red\", \"green\", \"blue\".\n",
    "* Molecular representations: https://nglviewer.org/ngl/api/manual/molecular-representations.html\n",
    "* Selection language: https://nglviewer.org/ngl/api/manual/selection-language.html\n"
   ]
  },
  {
   "cell_type": "code",
   "execution_count": 75,
   "metadata": {},
   "outputs": [],
   "source": [
    "view_prot.representations = [\n",
    "    #1\n",
    "    {\"type\": \"unitcell\", \"params\": {\n",
    "        \"sele\": \"water\", \"color\": \"element\", \n",
    "    }},\n",
    "    #2\n",
    "      {\"type\": \"cartoon\", \"params\": {\n",
    "        \"sele\": \"protein\", \"color\": \"sstruc\"\n",
    "    }},\n",
    "    #3\n",
    "    {\"type\": \"ball+stick\", \"params\": {\n",
    "        \"sele\": \"hydrophobic\", \"color\": \"grey\"\n",
    "    }},\n",
    "    #4\n",
    "    {\"type\": \"ball+stick\", \"params\": {\n",
    "        \"sele\": \"protein and not hydrophobic\", \"color\": \"blue\"\n",
    "    }},\n",
    "    #5\n",
    "      {\"type\": \"spacefill\", \"params\": {\n",
    "        \"sele\": \"ion\", \"color\": \"element\"\n",
    "    }}\n",
    "]\n"
   ]
  },
  {
   "cell_type": "markdown",
   "metadata": {},
   "source": [
    "For bigger simulation boxes, you may want to use an [orthographic](https://learnwebgl.brown37.net/08_projections/projections_introduction.html) projection rather than the default perspective projection. To do this, simply add the line:"
   ]
  },
  {
   "cell_type": "code",
   "execution_count": null,
   "metadata": {},
   "outputs": [],
   "source": [
    "view.camera = 'orthographic'"
   ]
  },
  {
   "cell_type": "markdown",
   "metadata": {},
   "source": [
    "The next cell will produce the image. You can change the representations in the cell above and the view below will automatically update."
   ]
  },
  {
   "cell_type": "code",
   "execution_count": 76,
   "metadata": {},
   "outputs": [
    {
     "data": {
      "application/vnd.jupyter.widget-view+json": {
       "model_id": "d6d0d97300ac4a3c820e95f6e1209a14",
       "version_major": 2,
       "version_minor": 0
      },
      "text/plain": [
       "NGLWidget()"
      ]
     },
     "metadata": {},
     "output_type": "display_data"
    }
   ],
   "source": [
    "view_prot"
   ]
  },
  {
   "cell_type": "markdown",
   "metadata": {},
   "source": [
    "In this cell, I will rotate the view. While it is easy to rotate the view with your mouse, it can be difficult to recover a mouse-found rotation a second time. With this more porposeful rotation, the amount and direction of the rotation is automatically saved.\n",
    "\n",
    "To do this, I use the function `view.control.spin()`. This function takes two inputs: a three dimensional vector (entered as a list) and a rotation angle (entered as a float). \n",
    "* The vector represents the direction around which the rotation happens. Note that no rotation happens in the direction that the vector points.\n",
    "    * By default when a structure is loaded by nglview, $\\hat{x}$ (the first direction vector entry) points from left-to-right, $\\hat{y}$ points from down-to-up, and $\\hat{z}$ points from in-to-out. The spin is in the direction of the [right-hand-rule](https://en.wikipedia.org/wiki/Right-hand_rule#:~:text=%5Bedit%5D-,A%20rotating%20body,-%5Bedit%5D) with your thumb in the direction of the vector of interest. \n",
    "    * The units of the vector are unknown, but using something besides a unit vector (a vector of magnitude 1.0) seems to result in stange stretching/squishing of the simulation box. The best practice is to always normalize your rotation vector.\n",
    "    * If the rotation vector is $\\vec{r}$, then $-\\vec{r}$ is a rotation in the opposite direction.\n",
    "* The angle represents the amount of rotation. This value is entered in radians."
   ]
  },
  {
   "cell_type": "code",
   "execution_count": 84,
   "metadata": {},
   "outputs": [],
   "source": [
    "rot_v = np.array([0, 0, 1])\n",
    "rot_v_unit = rot_v/np.linalg.norm(rot_v)\n",
    "\n",
    "rot_a = np.pi/4 #pi = 180 degrees\n",
    "\n",
    "view_prot.control.spin(rot_v_unit, rot_a)\n"
   ]
  },
  {
   "cell_type": "markdown",
   "metadata": {},
   "source": [
    "The following control, `zoom()` can be used to specify a specific zoom. Unfortunately, I don't really understand how it works. Some things I've worked out.\n",
    "\n",
    "* ~Negative values move the structure away from you, positive values move it towards you.~ This might not be true; while positive numbers less than 1 tend to zoom in, and negative numbers greater than -1 zoom out, 10 seems to also zoom out (-10 zooms out more though).\n",
    "* It takes a single floating number input.\n",
    "* Values don't seem to be additive - `zoom(1)` followed by `zoom(-1)` does not return you to the original picture.\n",
    "* Values outside the range of -1 to 1 tend to be overkill.\n",
    "\n",
    "My recommendation - play with the numbers until you find a zoom you like, then save that number forever."
   ]
  },
  {
   "cell_type": "code",
   "execution_count": 101,
   "metadata": {},
   "outputs": [],
   "source": [
    "view_prot.control.zoom(10)"
   ]
  },
  {
   "cell_type": "markdown",
   "metadata": {},
   "source": [
    "Finally, in the cell below we can save the image we've created. The image will be downloaded to the same location where your browser places downloaded files. Note that `download_image()` is used on the view of interest. The options for the `download_image()` function are \n",
    "\n",
    "1. filename: `string` - the name of the downloaded image file\n",
    "2. transparent: `True` or `False` - does the resulting file have a background? You'll usually want this to be set to `True`.\n",
    "3. trim:  `True` or `False` - is extra whitespace removed from the image? You'll usually want this to be set to `True`.\n",
    "4. factor: `float` - how high is the quality of the image? Larger numbers are higher quality. 15 is approximately publication quality."
   ]
  },
  {
   "cell_type": "code",
   "execution_count": 10,
   "metadata": {},
   "outputs": [],
   "source": [
    "view_prot.download_image('post_min.png', transparent=True, trim=True, factor=15)"
   ]
  },
  {
   "cell_type": "code",
   "execution_count": null,
   "metadata": {},
   "outputs": [],
   "source": []
  },
  {
   "cell_type": "code",
   "execution_count": null,
   "metadata": {},
   "outputs": [],
   "source": []
  },
  {
   "cell_type": "code",
   "execution_count": null,
   "metadata": {},
   "outputs": [],
   "source": []
  },
  {
   "cell_type": "code",
   "execution_count": null,
   "metadata": {},
   "outputs": [],
   "source": []
  },
  {
   "cell_type": "code",
   "execution_count": null,
   "metadata": {},
   "outputs": [],
   "source": []
  }
 ],
 "metadata": {
  "kernelspec": {
   "display_name": "Python 3",
   "language": "python",
   "name": "python3"
  },
  "language_info": {
   "codemirror_mode": {
    "name": "ipython",
    "version": 3
   },
   "file_extension": ".py",
   "mimetype": "text/x-python",
   "name": "python",
   "nbconvert_exporter": "python",
   "pygments_lexer": "ipython3",
   "version": "3.8.5"
  }
 },
 "nbformat": 4,
 "nbformat_minor": 5
}
