{
 "cells": [
  {
   "cell_type": "code",
   "execution_count": 1,
   "id": "adeace6f",
   "metadata": {},
   "outputs": [
    {
     "data": {
      "application/vnd.jupyter.widget-view+json": {
       "model_id": "4b2bf53e57f44e5fadc2826d5225d028",
       "version_major": 2,
       "version_minor": 0
      },
      "text/plain": []
     },
     "metadata": {},
     "output_type": "display_data"
    }
   ],
   "source": [
    "import nglview as nv\n",
    "import numpy as np\n",
    "import mdtraj as md"
   ]
  },
  {
   "cell_type": "code",
   "execution_count": 2,
   "id": "c49d1830",
   "metadata": {},
   "outputs": [],
   "source": [
    "traj = md.load('dinitrobenzine.pdb')"
   ]
  },
  {
   "cell_type": "code",
   "execution_count": 3,
   "id": "a434a794",
   "metadata": {},
   "outputs": [],
   "source": [
    "view = nv.show_mdtraj(traj)"
   ]
  },
  {
   "cell_type": "code",
   "execution_count": 16,
   "id": "69786133",
   "metadata": {},
   "outputs": [],
   "source": [
    "view.representations = [\n",
    "    {\"type\": \"ball+stick\", \"params\": {\n",
    "        \"sele\": \"all\", \"color\": \"element\"\n",
    "    }},\n",
    "    {\"type\": \"spacefill\", \"params\": {\n",
    "        \"sele\": \".N or .O\"\n",
    "    }}\n",
    "]"
   ]
  },
  {
   "cell_type": "code",
   "execution_count": 21,
   "id": "f044af49",
   "metadata": {},
   "outputs": [],
   "source": [
    "view.stage.set_parameters(**{\n",
    "    # \"percentages, \"dist\" is distance too camera in Angstrom\n",
    "    \"clipNear\": 0, \"clipFar\": 100, \"clipDist\": 10,\n",
    "    # percentages, start of fog and where on full effect\n",
    "    \"fogNear\": 100, \"fogFar\": 100,\n",
    "    # background color\n",
    "    \"backgroundColor\": \"white\",\n",
    "})\n"
   ]
  },
  {
   "cell_type": "code",
   "execution_count": 7,
   "id": "e9270d0e",
   "metadata": {},
   "outputs": [
    {
     "data": {
      "application/vnd.jupyter.widget-view+json": {
       "model_id": "0cfd5576ea684a0ea81866d6d506ced9",
       "version_major": 2,
       "version_minor": 0
      },
      "text/plain": [
       "NGLWidget(n_components=1, picked={'atom1': {'index': 3, 'residueIndex': 0, 'resname': 'LIG', 'x': -2.986999988…"
      ]
     },
     "metadata": {},
     "output_type": "display_data"
    }
   ],
   "source": [
    "view"
   ]
  },
  {
   "cell_type": "code",
   "execution_count": 15,
   "id": "063e11f4",
   "metadata": {},
   "outputs": [],
   "source": [
    "view.download_image('test.png', transparent=True, factor=15)"
   ]
  }
 ],
 "metadata": {
  "kernelspec": {
   "display_name": "Python 3 (ipykernel)",
   "language": "python",
   "name": "python3"
  },
  "language_info": {
   "codemirror_mode": {
    "name": "ipython",
    "version": 3
   },
   "file_extension": ".py",
   "mimetype": "text/x-python",
   "name": "python",
   "nbconvert_exporter": "python",
   "pygments_lexer": "ipython3",
   "version": "3.9.6"
  }
 },
 "nbformat": 4,
 "nbformat_minor": 5
}
